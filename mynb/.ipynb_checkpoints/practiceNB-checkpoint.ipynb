{
 "metadata": {
  "name": "",
  "signature": "sha256:d8ed4ebb1548949f103a64b614d92c73ab470eafc9329a5c768fea4e28e66414"
 },
 "nbformat": 3,
 "nbformat_minor": 0,
 "worksheets": [
  {
   "cells": [
    {
     "cell_type": "code",
     "collapsed": false,
     "input": [],
     "language": "python",
     "metadata": {},
     "outputs": []
    }
   ],
   "metadata": {}
  }
 ]
}
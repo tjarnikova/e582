{
 "metadata": {
  "name": "",
  "signature": "sha256:a94ffd11d98e5cc780d4f3add7d9b218b6a952476521899744be6a0ca46eb689"
 },
 "nbformat": 3,
 "nbformat_minor": 0,
 "worksheets": [
  {
   "cells": [
    {
     "cell_type": "code",
     "collapsed": false,
     "input": [
      "from __future__ import print_function\n",
      "import glob  #this module gets file names using wildcards\n",
      "#\n",
      "# the h5dump.py file is one folder up in the utilities folder\n",
      "# use site.addsitedir to add this folder to the list of folders\n",
      "# python searches for imports\n",
      "#\n",
      "import site\n",
      "site.addsitedir('../utilities')\n",
      "from h5dump import dumph5\n",
      "import h5py\n",
      "import matplotlib.pyplot as plt\n",
      "import numpy as np\n",
      "%matplotlib inline"
     ],
     "language": "python",
     "metadata": {},
     "outputs": [],
     "prompt_number": 28
    },
    {
     "cell_type": "code",
     "collapsed": false,
     "input": [
      "binned_file=glob.glob('/Users/alena/Sync/UBC/classes/e582files_ch/01_13_15/dataset/A20130322013059.L3b_MO_CHL.h5')[0]\n",
      "dumph5(binned_file);"
     ],
     "language": "python",
     "metadata": {},
     "outputs": [
      {
       "output_type": "stream",
       "stream": "stdout",
       "text": [
        "item name:  Level-3 Binned Data <HDF5 group \"/Level-3 Binned Data\" (8 members)>\n",
        "    HDF4_OBJECT_TYPE: Vgroup\n",
        "    HDF4_OBJECT_NAME: Level-3 Binned Data\n",
        "    HDF4_REF_NUM: 2\n",
        "item name:  Level-3 Binned Data/BinIndex <HDF5 dataset \"BinIndex\": shape (4320,), type \"|V36\">\n",
        "    TITLE: BinIndex\n",
        "    CLASS: TABLE\n",
        "    VERSION: 1.0\n",
        "    FIELD_0_NAME: row_num\n",
        "    FIELD_1_NAME: vsize\n",
        "    FIELD_2_NAME: hsize\n",
        "    FIELD_3_NAME: start_num\n",
        "    FIELD_4_NAME: begin\n",
        "    FIELD_5_NAME: extent\n",
        "    FIELD_6_NAME: max\n",
        "    HDF4_OBJECT_TYPE: Vdata\n",
        "    HDF4_OBJECT_NAME: BinIndex\n",
        "    HDF4_REF_NUM: 15707\n",
        "item name:  Level-3 Binned Data/BinIndex_t <HDF5 named type \"BinIndex_t\" (dtype |V36)>\n",
        "item name:  Level-3 Binned Data/BinList <HDF5 dataset \"BinList\": shape (13451607,), type \"|V19\">\n",
        "    TITLE: BinList\n",
        "    CLASS: TABLE\n",
        "    VERSION: 1.0\n",
        "    FIELD_0_NAME: bin_num\n",
        "    FIELD_1_NAME: nobs\n",
        "    FIELD_2_NAME: nscenes\n",
        "    FIELD_3_NAME: time_rec\n",
        "    FIELD_4_NAME: weights\n",
        "    FIELD_5_NAME: sel_cat\n",
        "    FIELD_6_NAME: flags_set\n",
        "    HDF4_OBJECT_TYPE: Vdata\n",
        "    HDF4_OBJECT_NAME: BinList\n",
        "    HDF4_REF_NUM: 4\n",
        "item name:  Level-3 Binned Data/BinList_t <HDF5 named type \"BinList_t\" (dtype |V19)>\n",
        "item name:  Level-3 Binned Data/SEAGrid <HDF5 dataset \"SEAGrid\": shape (1,), type \"|V44\">\n",
        "    TITLE: SEAGrid\n",
        "    CLASS: TABLE\n",
        "    VERSION: 1.0\n",
        "    FIELD_0_NAME: registration\n",
        "    FIELD_1_NAME: straddle\n",
        "    FIELD_2_NAME: bins\n",
        "    FIELD_3_NAME: radius\n",
        "    FIELD_4_NAME: max_north\n",
        "    FIELD_5_NAME: max_south\n",
        "    FIELD_6_NAME: seam_lon\n",
        "    HDF4_OBJECT_TYPE: Vdata\n",
        "    HDF4_OBJECT_NAME: SEAGrid\n",
        "    HDF4_REF_NUM: 3\n",
        "item name:  Level-3 Binned Data/SEAGrid_t <HDF5 named type \"SEAGrid_t\" (dtype |V44)>\n",
        "item name:  Level-3 Binned Data/chlor_a <HDF5 dataset \"chlor_a\": shape (13451607,), type \"|V8\">\n",
        "    TITLE: chlor_a\n",
        "    CLASS: TABLE\n",
        "    FIELD_0_NAME: chlor_a_sum\n",
        "    FIELD_1_NAME: chlor_a_sum_sq\n",
        "    HDF4_OBJECT_TYPE: Vdata\n",
        "    HDF4_OBJECT_NAME: chlor_a\n",
        "    HDF4_REF_NUM: 5\n",
        "    VERSION: 1.0\n",
        "item name:  Level-3 Binned Data/chlor_a_t <HDF5 named type \"chlor_a_t\" (dtype |V8)>\n",
        "-------------------\n",
        "attributes for the root file\n",
        "-------------------\n",
        "attribute name:  Product Name_GLOSDS --- value:  A20130322013059.L3b_MO_CHL.main\n",
        "attribute name:  Title_GLOSDS --- value:  HMODISA Level-3 Binned Data\n",
        "attribute name:  Sensor Name_GLOSDS --- value:  HMODISA\n",
        "attribute name:  Mission_GLOSDS --- value:  \n",
        "attribute name:  Mission Characteristics_GLOSDS --- value:  \n",
        "attribute name:  Sensor_GLOSDS --- value:  \n",
        "attribute name:  Sensor Characteristics_GLOSDS --- value:  \n",
        "attribute name:  Product Type_GLOSDS --- value:  other\n",
        "attribute name:  Processing Version_GLOSDS --- value:  2013.1\n",
        "attribute name:  Software Name_GLOSDS --- value:  L3BIN\n",
        "attribute name:  Software Version_GLOSDS --- value:  3.54\n",
        "attribute name:  Orbit_GLOSDS --- value:  57373\n",
        "attribute name:  Start Orbit_GLOSDS --- value:  57169\n",
        "attribute name:  End Orbit_GLOSDS --- value:  57578\n",
        "attribute name:  Processing Time_GLOSDS --- value:  2013270170746000\n",
        "attribute name:  Processing Control_GLOSDS --- value:  l3bin par=A20130322013059.L3b_MO_CHL.param\n",
        "attribute name:  Input Parameters_GLOSDS --- value:  INFILE = /data4/sdpsoper/vdc/vpu7/workbuf/l3inlist.dat|OFILE = A20130322013059.L3b_MO_CHL.main|PFILE = A20130322013059.L3b_MO_CHL.main|SYEAR = 2013|EYEAR = 2013|SDAY = 32|EDAY = 59|SORBIT = -1|EORBIT = -1|OUT_PARM = DEFAULT|TFLAG = O|PROCESSING VERSION = 2013.1|REDUCE_FAC = 1|MERGED = |LONEAST = 180.000000|LONWEST = -180.000000|LATNORTH = 90.000000|LATSOUTH = -90.000000|VERBOSE = 0|UNIT_WGT = 0|MEDIAN = 0|\n",
        "attribute name:  Input Files_GLOSDS --- value:  /data4/sdpsoper/vdc/vpu7/workbuf/A20130332013040.L3b_8D_CHL.main,/data4/sdpsoper/vdc/vpu7/workbuf/A20130412013048.L3b_8D_CHL.main,/data4/sdpsoper/vdc/vpu7/workbuf/A20130492013056.L3b_8D_CHL.main,/data4/sdpsoper/vdc/vpu7/workbuf/A2013032.L3b_DAY_CHL.main,/data4/sdpsoper/vdc/vpu7/workbuf/A2013057.L3b_DAY_CHL.main,/data4/sdpsoper/vdc/vpu7/workbuf/A2013058.L3b_DAY_CHL.main,/data4/sdpsoper/vdc/vpu7/workbuf/A2013059.L3b_DAY_CHL.main\n",
        "attribute name:  L2 Flag Names_GLOSDS --- value:  ATMFAIL,LAND,HILT,HISATZEN,STRAYLIGHT,CLDICE,COCCOLITH,LOWLW,CHLWARN,CHLFAIL,NAVWARN,MAXAERITER,ATMWARN,HISOLZEN,NAVFAIL,FILTER,HIGLINT\n",
        "attribute name:  Period Start Year_GLOSDS --- value:  2013\n",
        "attribute name:  Period Start Day_GLOSDS --- value:  32\n",
        "attribute name:  Period End Year_GLOSDS --- value:  2013\n",
        "attribute name:  Period End Day_GLOSDS --- value:  59\n",
        "attribute name:  Start Time_GLOSDS --- value:  2013032002508693\n",
        "attribute name:  End Time_GLOSDS --- value:  2013033030007862\n",
        "attribute name:  Start Year_GLOSDS --- value:  2013\n",
        "attribute name:  Start Day_GLOSDS --- value:  32\n",
        "attribute name:  Start Millisec_GLOSDS --- value:  1508693\n",
        "attribute name:  End Year_GLOSDS --- value:  2013\n",
        "attribute name:  End Day_GLOSDS --- value:  60\n",
        "attribute name:  End Millisec_GLOSDS --- value:  10807181\n",
        "attribute name:  Latitude Units_GLOSDS --- value:  degrees North\n",
        "attribute name:  Longitude Units_GLOSDS --- value:  degrees East\n",
        "attribute name:  Northernmost Latitude_GLOSDS --- value:  62.2708\n",
        "attribute name:  Southernmost Latitude_GLOSDS --- value:  -78.5208\n",
        "attribute name:  Easternmost Longitude_GLOSDS --- value:  179.979\n",
        "attribute name:  Westernmost Longitude_GLOSDS --- value:  -179.979\n",
        "attribute name:  Data Bins_GLOSDS --- value:  13451607\n",
        "attribute name:  Percent Data Bins_GLOSDS --- value:  56.6105\n",
        "attribute name:  Units_GLOSDS --- value:  chlor_a:mg m^-3\n",
        "attribute name:  Bin Resolution_GLOSDS --- value:  4 km\n"
       ]
      }
     ],
     "prompt_number": 29
    },
    {
     "cell_type": "code",
     "collapsed": false,
     "input": [
      "import tile_calc\n",
      "dir(tile_calc)"
     ],
     "language": "python",
     "metadata": {},
     "outputs": [
      {
       "metadata": {},
       "output_type": "pyout",
       "prompt_number": 30,
       "text": [
        "['__builtins__',\n",
        " '__doc__',\n",
        " '__file__',\n",
        " '__name__',\n",
        " '__package__',\n",
        " 'division',\n",
        " 'np',\n",
        " 'tile_calc']"
       ]
      }
     ],
     "prompt_number": 30
    },
    {
     "cell_type": "code",
     "collapsed": false,
     "input": [
      "test18=tile_calc.tile_calc(18)"
     ],
     "language": "python",
     "metadata": {},
     "outputs": [],
     "prompt_number": 31
    },
    {
     "cell_type": "code",
     "collapsed": false,
     "input": [
      "import numpy \n",
      "\n",
      "cartarr = numpy.zeros((500,500,3))\n",
      "#print(cartarr[0,0,0])\n",
      "\n",
      "lat = 75  \n",
      "lon = -170\n",
      "rows = 500\n",
      "columns = 500\n",
      "for i in range(rows):\n",
      "    for j in range(columns):\n",
      "        cartarr[i][j][0] = lat\n",
      "    lat = lat -.1\n",
      "\n",
      "for i in range(rows):\n",
      "    for j in range(columns):\n",
      "        cartarr[i][j][1] = lon\n",
      "        lon = lon +.1\n",
      "    lon =-170\n",
      "#testing array populations\n",
      "print('north is')\n",
      "print(cartarr[250,250,0])\n",
      "print(cartarr[251,250,0])\n",
      "print('west is')\n",
      "print(cartarr[250,250,1])\n",
      "print(cartarr[250,251,1])\n",
      "#print(cartarr[1,7,1])\n",
      "\n",
      "#print(cartarr[1,7,0])\n",
      "#print(cartarr[2,7,0])\n",
      "#print(cartarr[250,75,0])\n",
      "\n",
      "x = (cartarr[0,250,0])\n",
      "y = (cartarr[250,75,1])\n",
      "\n",
      "#print('tile for UBC: ',test18.latlon2tile(x,y))"
     ],
     "language": "python",
     "metadata": {},
     "outputs": [
      {
       "output_type": "stream",
       "stream": "stdout",
       "text": [
        "north is\n",
        "50.0\n",
        "49.9\n",
        "west is\n",
        "-145.0\n",
        "-144.9\n"
       ]
      }
     ],
     "prompt_number": 32
    },
    {
     "cell_type": "code",
     "collapsed": false,
     "input": [
      "rows = 500\n",
      "columns = 500\n",
      "for i in range(rows):\n",
      "    for j in range(columns):\n",
      "        binlon = cartarr[i][j][1] \n",
      "        binlat = cartarr[i][j][0] \n",
      "        tile = test18.latlon2tile(binlat,binlon)\n",
      "        cartarr[i][j][2] = tile\n",
      "\n",
      "print(cartarr[250,250,2])"
     ],
     "language": "python",
     "metadata": {},
     "outputs": [
      {
       "output_type": "stream",
       "stream": "stdout",
       "text": [
        "367.0\n"
       ]
      }
     ],
     "prompt_number": 33
    },
    {
     "cell_type": "code",
     "collapsed": false,
     "input": [],
     "language": "python",
     "metadata": {},
     "outputs": [],
     "prompt_number": 33
    }
   ],
   "metadata": {}
  }
 ]
}